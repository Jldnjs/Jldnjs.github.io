{
  "nbformat": 4,
  "nbformat_minor": 0,
  "metadata": {
    "colab": {
      "provenance": [],
      "authorship_tag": "ABX9TyNuQgz5Ct21YaE7kl1S0tfY",
      "include_colab_link": true
    },
    "kernelspec": {
      "name": "python3",
      "display_name": "Python 3"
    },
    "language_info": {
      "name": "python"
    }
  },
  "cells": [
    {
      "cell_type": "markdown",
      "metadata": {
        "id": "view-in-github",
        "colab_type": "text"
      },
      "source": [
        "<a href=\"https://colab.research.google.com/github/Jldnjs/Jldnjs.github.io/blob/main/2023_09_05.ipynb\" target=\"_parent\"><img src=\"https://colab.research.google.com/assets/colab-badge.svg\" alt=\"Open In Colab\"/></a>"
      ]
    },
    {
      "cell_type": "markdown",
      "source": [
        "# [자료구조와 함께 배우는 알고리즘입문_파이썬]\n",
        "## ch02. 기본자료구조와 배열"
      ],
      "metadata": {
        "id": "mtS3GW9vwqou"
      }
    },
    {
      "cell_type": "code",
      "execution_count": 3,
      "metadata": {
        "colab": {
          "base_uri": "https://localhost:8080/"
        },
        "id": "w1-QTg82wlA3",
        "outputId": "1679939a-21ef-4c5e-a4d7-491c77c3c467"
      },
      "outputs": [
        {
          "output_type": "execute_result",
          "data": {
            "text/plain": [
              "[[1, 9, 3], [4, 5, 6]]"
            ]
          },
          "metadata": {},
          "execution_count": 3
        }
      ],
      "source": [
        "#얕은 복사 : 리스트안의 모든 원소가 참조하는 곳까지 복사됨.\n",
        "#           객체가 갖는 멤버의 값을 새로운 객체로 복사할 때 객체가 참조 자료형의 멤버를 포함.\n",
        "x = [[1,2,3],[4,5,6]]\n",
        "y = x.copy() #x를 y로 얕은 복사\n",
        "x[0][1] = 9\n",
        "x"
      ]
    },
    {
      "cell_type": "code",
      "source": [
        "y"
      ],
      "metadata": {
        "colab": {
          "base_uri": "https://localhost:8080/"
        },
        "id": "UOm4DSvAxIs2",
        "outputId": "ef2ef1ac-21da-4b08-b6e1-61c06142e341"
      },
      "execution_count": 4,
      "outputs": [
        {
          "output_type": "execute_result",
          "data": {
            "text/plain": [
              "[[1, 9, 3], [4, 5, 6]]"
            ]
          },
          "metadata": {},
          "execution_count": 4
        }
      ]
    },
    {
      "cell_type": "code",
      "source": [
        "# 깊은 복사: 참조값과 참조하는 객체 자체 복사(전체복사)\n",
        "import copy\n",
        "x = [[1,2,3],[4,5,6]]\n",
        "y =copy.deepcopy(x)\n",
        "x[0][1] = 9\n",
        "x"
      ],
      "metadata": {
        "colab": {
          "base_uri": "https://localhost:8080/"
        },
        "id": "P0ZzpvXrxwPT",
        "outputId": "25d87a5e-5840-407d-944c-5a08c33097e1"
      },
      "execution_count": 5,
      "outputs": [
        {
          "output_type": "execute_result",
          "data": {
            "text/plain": [
              "[[1, 9, 3], [4, 5, 6]]"
            ]
          },
          "metadata": {},
          "execution_count": 5
        }
      ]
    },
    {
      "cell_type": "code",
      "source": [
        "y"
      ],
      "metadata": {
        "colab": {
          "base_uri": "https://localhost:8080/"
        },
        "id": "iI8ndWJxzIlS",
        "outputId": "054d12ab-6d6a-4390-b244-9401ab99b41e"
      },
      "execution_count": 6,
      "outputs": [
        {
          "output_type": "execute_result",
          "data": {
            "text/plain": [
              "[[1, 2, 3], [4, 5, 6]]"
            ]
          },
          "metadata": {},
          "execution_count": 6
        }
      ]
    },
    {
      "cell_type": "code",
      "source": [],
      "metadata": {
        "id": "4pmjCCydzKjD"
      },
      "execution_count": null,
      "outputs": []
    }
  ]
}
